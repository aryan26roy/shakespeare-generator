{
 "cells": [
  {
   "cell_type": "markdown",
   "metadata": {
    "colab": {
     "base_uri": "https://localhost:8080/"
    },
    "id": "DP9EXq8PlLi7",
    "outputId": "21656371-b07d-4b53-9e70-b520b1981238"
   },
   "source": [
    "!wget --no-check-certificate https://raw.githubusercontent.com/karpathy/char-rnn/master/data/tinyshakespeare/input.txt"
   ]
  },
  {
   "cell_type": "code",
   "execution_count": null,
   "metadata": {
    "id": "d5bewsDIl9vK"
   },
   "outputs": [],
   "source": [
    "import torch\n",
    "import torch.nn as nn\n",
    "from torch.nn import functional as F\n",
    "\n",
    "batch_size= 64\n",
    "block_size = 128\n",
    "max_iters = 8000\n",
    "eval_interval = 200\n",
    "learning_rate = 1e-4\n",
    "device = 'cuda' if torch.cuda.is_available() else 'cpu'\n",
    "eval_iters = 200\n",
    "n_embd = 384\n",
    "n_head = 8\n",
    "n_layer = 6\n",
    "dropout = 0.2\n",
    "\n",
    "torch.manual_seed(1337)\n",
    "\n",
    "with open ('input.txt', 'r', encoding='utf-8') as f:\n",
    "  text = f.read()\n",
    "\n",
    "chars = sorted(list(set(text)))\n",
    "vocab_size = len(chars) #unique charachters in the text\n",
    "\n",
    "stoi = { ch:i for i,ch in enumerate(chars) } #can use sentencepiece here as well (or any other subword tokenizer)\n",
    "itos = { i:ch for i,ch in enumerate(chars) }\n",
    "encode = lambda s: [stoi[c] for c in s]\n",
    "decode = lambda l: ''.join([itos[i] for i in l])\n",
    "\n",
    "data = torch.tensor(encode(text), dtype=torch.long) #making all the data into a pytorch tensor\n",
    "n = int(0.9*len(data))\n",
    "train_data = data[:n] #train\n",
    "val_data = data[n:] #validation\n",
    "\n",
    "def get_batch(split):\n",
    "  data = train_data if split == 'train' else val_data\n",
    "  ix = torch.randint(len(data)-block_size, (batch_size,))\n",
    "  x = torch.stack([data[i:i+block_size]for i in ix])\n",
    "  y = torch.stack([data[i+1:i+block_size+1]for i in ix])\n",
    "  x,y = x.to(device), y.to(device)\n",
    "  return x,y\n",
    "\n",
    "@torch.no_grad()\n",
    "def estimate_loss():\n",
    "  out = {}\n",
    "  model.eval()\n",
    "  for split in ['train', 'val']:\n",
    "    losses = torch.zeros(eval_iters)\n",
    "    for k in range(eval_iters):\n",
    "      X,Y = get_batch(split)\n",
    "      logits, loss = model(X,Y)\n",
    "      losses[k] = loss.item()\n",
    "    out[split] = losses.mean()\n",
    "  model.train()\n",
    "  return out\n",
    "\n",
    "class Head(nn.Module):\n",
    "  def __init__(self,head_size):\n",
    "    super().__init__()\n",
    "    self.key  = nn.Linear(n_embd, head_size, bias=False) #each token describes itself\n",
    "    self.query  = nn.Linear(n_embd, head_size, bias=False) #each token looks for specific tokens\n",
    "    self.value  = nn.Linear(n_embd, head_size, bias=False) #transforms the input\n",
    "    self.register_buffer('tril',torch.tril(torch.ones(block_size, block_size)))\n",
    "    self.dropout = nn.Dropout(dropout)\n",
    "  \n",
    "  def forward(self, x):\n",
    "    B,T,C = x.shape\n",
    "    k = self.key(x)\n",
    "    q = self.query(x)\n",
    "    wei = q @ k.transpose(-2,-1) * C**-0.5 #scaled multiplication of all quries with all keys (attention)\n",
    "    wei = wei.masked_fill(self.tril[:T, :T] == 0, float('-inf')) #(B,T,T), masking the future tokens\n",
    "    wei = F.softmax(wei, dim=-1)\n",
    "    wei = self.dropout(wei)\n",
    "    v = self.value(x)\n",
    "    out = wei @ v\n",
    "    return out\n",
    "\n",
    "\n",
    "class MultiHeadAttention(nn.Module):\n",
    "  def __init__(self, num_heads, head_size):\n",
    "    super().__init__()\n",
    "    self.heads = nn.ModuleList([Head(head_size) for _ in range(num_heads)])\n",
    "    self.proj = nn.Linear(n_embd, n_embd)\n",
    "    self.dropout = nn.Dropout(dropout)\n",
    "\n",
    "  def forward(self, x):\n",
    "    out = torch.cat([h(x) for h in self.heads], dim =-1)\n",
    "    out = self.dropout(self.proj(out))\n",
    "    return out\n",
    "\n",
    "class FeedForward(nn.Module):\n",
    "  \"\"\"One head of self attention\"\"\"\n",
    "  def __init__(self, n_embd):\n",
    "    super().__init__()\n",
    "    self.net = nn.Sequential(nn.Linear(n_embd, 4*n_embd), nn.ReLU(), nn.Linear(4*n_embd, n_embd), nn.Dropout(dropout))\n",
    "\n",
    "  def forward(self,x):\n",
    "    return self.net(x)\n",
    "\n",
    "class Block(nn.Module):\n",
    "  \"\"\"Transformer block\"\"\"\n",
    "  def __init__(self, n_embed, n_head):\n",
    "    super().__init__()\n",
    "    head_size = n_embed//n_head\n",
    "    self.sa = MultiHeadAttention(n_head, head_size)\n",
    "    self.ffwd = FeedForward(n_embed)\n",
    "    self.ln1 = nn.LayerNorm(n_embed)\n",
    "    self.ln2 = nn.LayerNorm(n_embed)\n",
    "\n",
    "  def forward(self, x):\n",
    "    x = x + self.sa(self.ln1(x))\n",
    "    x = x + self.ffwd(self.ln2(x))\n",
    "    return x\n",
    "\n",
    "class BigramLannguageModel(nn.Module):\n",
    "  def __init__(self):\n",
    "    super().__init__()\n",
    "    self.token_embedding_table = nn.Embedding(vocab_size, n_embd) # a table for looking up the next possible token\n",
    "    self.position_embedding_table = nn.Embedding(block_size, n_embd)\n",
    "    self.blocks = nn.Sequential(Block(n_embd,n_head=4),Block(n_embd,n_head=4),Block(n_embd,n_head=4), nn.LayerNorm(n_embd))\n",
    "    self.blocks = nn.Sequential(*[Block(n_embd, n_head= n_head) for _ in range(n_layer)])\n",
    "    self.ln_f = nn.LayerNorm(n_embd)\n",
    "    self.lm_head = nn.Linear(n_embd, vocab_size)\n",
    "\n",
    "  def forward(self, idx, targets = None):\n",
    "    B, T = idx.shape\n",
    "    tok_embd = self.token_embedding_table(idx) # output is in the format (B,T,C) or (batch_size, block_size, vocab_size)\n",
    "    pos_embd = self.position_embedding_table(torch.arange(T,device=device)) # (T,C)\n",
    "    x = tok_embd + pos_embd #(B,T,C)\n",
    "    x = self.blocks(x)\n",
    "    x = self.ln_f(x)\n",
    "    logits = self.lm_head(x) # (B,T, vocab_size)\n",
    "\n",
    "    if targets is None:\n",
    "      loss = None\n",
    "    else:\n",
    "      B,T,C = logits.shape\n",
    "      logits = logits.view(B*T, C) # reshaping since the channel is expected to be the second dimension by pytorch's implementation of cross_entropy\n",
    "      targets = targets.view(B*T)\n",
    "      loss = F.cross_entropy(logits, targets)\n",
    "    return logits, loss\n",
    "  \n",
    "  def generate(self, idx, max_new_tokens):\n",
    "    for _ in range(max_new_tokens):\n",
    "      idx_cond = idx[:, -block_size:]# cropping input\n",
    "      logits, loss = self(idx_cond) # goes to the forward method\n",
    "      logits = logits[:, -1, :] #getting the row from the embedding table of the last charachter in the input sequence\n",
    "      probs = F.softmax(logits, dim= -1) #making a probability distribution\n",
    "      idx_next = torch.multinomial(probs, num_samples=1) #sampling the most likely next charachter from the said distribution\n",
    "      idx = torch.cat((idx, idx_next), dim = 1) #adding the prediction to the input\n",
    "    return idx\n",
    "\n",
    "model = BigramLannguageModel()\n",
    "m = model.to(device)\n",
    "\n",
    "optimizer = torch.optim.AdamW(model.parameters(), lr=learning_rate) #using adam"
   ]
  },
  {
   "cell_type": "code",
   "execution_count": null,
   "metadata": {
    "colab": {
     "base_uri": "https://localhost:8080/"
    },
    "id": "8Lrc263ZyKSV",
    "outputId": "96554401-2623-4ba7-f44a-7c954c9bf182"
   },
   "outputs": [
    {
     "name": "stdout",
     "output_type": "stream",
     "text": [
      "step 0: train loss 4.2650, val loss 4.2630\n",
      "step 200: train loss 2.4654, val loss 2.4829\n",
      "step 400: train loss 2.3795, val loss 2.4020\n",
      "step 600: train loss 2.2441, val loss 2.2709\n",
      "step 800: train loss 2.1002, val loss 2.1405\n",
      "step 1000: train loss 1.9951, val loss 2.0625\n",
      "step 1200: train loss 1.9042, val loss 1.9956\n",
      "step 1400: train loss 1.8324, val loss 1.9505\n",
      "step 1600: train loss 1.7625, val loss 1.9019\n",
      "step 1800: train loss 1.7082, val loss 1.8615\n",
      "step 2000: train loss 1.6656, val loss 1.8362\n",
      "step 2200: train loss 1.6296, val loss 1.7983\n",
      "step 2400: train loss 1.5960, val loss 1.7796\n",
      "step 2600: train loss 1.5626, val loss 1.7563\n",
      "step 2800: train loss 1.5459, val loss 1.7328\n",
      "step 3000: train loss 1.5190, val loss 1.7128\n",
      "step 3200: train loss 1.5015, val loss 1.7020\n",
      "step 3400: train loss 1.4804, val loss 1.6823\n",
      "step 3600: train loss 1.4639, val loss 1.6693\n",
      "step 3800: train loss 1.4489, val loss 1.6569\n",
      "step 4000: train loss 1.4353, val loss 1.6460\n",
      "step 4200: train loss 1.4178, val loss 1.6296\n",
      "step 4400: train loss 1.4005, val loss 1.6114\n",
      "step 4600: train loss 1.3937, val loss 1.6101\n",
      "step 4800: train loss 1.3832, val loss 1.5980\n",
      "step 5000: train loss 1.3741, val loss 1.5914\n",
      "step 5200: train loss 1.3683, val loss 1.5865\n",
      "step 5400: train loss 1.3542, val loss 1.5837\n",
      "step 5600: train loss 1.3451, val loss 1.5744\n",
      "step 5800: train loss 1.3354, val loss 1.5671\n",
      "step 6000: train loss 1.3265, val loss 1.5574\n",
      "step 6200: train loss 1.3225, val loss 1.5554\n",
      "step 6400: train loss 1.3163, val loss 1.5514\n",
      "step 6600: train loss 1.3049, val loss 1.5458\n",
      "step 6800: train loss 1.2983, val loss 1.5406\n",
      "step 7000: train loss 1.2917, val loss 1.5351\n",
      "step 7200: train loss 1.2865, val loss 1.5377\n",
      "step 7400: train loss 1.2823, val loss 1.5319\n",
      "step 7600: train loss 1.2731, val loss 1.5283\n",
      "step 7800: train loss 1.2718, val loss 1.5279\n"
     ]
    }
   ],
   "source": [
    "train_loss = []\n",
    "val_loss = []\n",
    "for iter in range(max_iters):\n",
    "\n",
    "  if iter%eval_interval == 0:\n",
    "    losses = estimate_loss()\n",
    "    train_loss.append(losses['train'])\n",
    "    val_loss.append(losses['val'])\n",
    "    print(f\"step {iter}: train loss {losses['train']:.4f}, val loss {losses['val']:.4f}\")\n",
    "\n",
    "  xb, yb = get_batch('train')\n",
    "\n",
    "  logits, loss = m(xb, yb)\n",
    "  optimizer.zero_grad(set_to_none=True)\n",
    "  loss.backward()\n",
    "  optimizer.step()"
   ]
  },
  {
   "cell_type": "code",
   "execution_count": null,
   "metadata": {
    "id": "3i_aS6T3ynl3"
   },
   "outputs": [],
   "source": [
    "for i in range(len(val_loss)):\n",
    "  val_loss[i] = val_loss[i].item()\n",
    "  train_loss[i] = train_loss[i].item()"
   ]
  },
  {
   "cell_type": "code",
   "execution_count": null,
   "metadata": {
    "id": "r1A0U_56B2Xu"
   },
   "outputs": [],
   "source": [
    "import matplotlib.pyplot as plt\n",
    "import numpy as np\n",
    "val_loss = np.array(val_loss)\n",
    "train_loss = np.array(train_loss)\n",
    "x = np.arange(0,8000, 200)"
   ]
  },
  {
   "cell_type": "code",
   "execution_count": null,
   "metadata": {
    "colab": {
     "base_uri": "https://localhost:8080/",
     "height": 299
    },
    "id": "ni-smuwiCaRe",
    "outputId": "436a3bc1-f2f6-4cd2-ba00-ebb011257d07"
   },
   "outputs": [
    {
     "data": {
      "text/plain": [
       "Text(0.5, 1.0, 'Validation Loss')"
      ]
     },
     "execution_count": 24,
     "metadata": {},
     "output_type": "execute_result"
    },
    {
     "data": {
      "image/png": "[encoded data removed]",
      "text/plain": [
       "<Figure size 432x288 with 1 Axes>"
      ]
     },
     "metadata": {
      "needs_background": "light"
     },
     "output_type": "display_data"
    }
   ],
   "source": [
    "plt.plot(x, val_loss)\n",
    "plt.title(\"Validation Loss\")"
   ]
  },
  {
   "cell_type": "code",
   "execution_count": null,
   "metadata": {
    "colab": {
     "base_uri": "https://localhost:8080/",
     "height": 299
    },
    "id": "12hw7AmnFDj-",
    "outputId": "cddc62cd-244e-4d1a-daee-c4ae99ac4507"
   },
   "outputs": [
    {
     "data": {
      "text/plain": [
       "Text(0.5, 1.0, 'Train Loss')"
      ]
     },
     "execution_count": 25,
     "metadata": {},
     "output_type": "execute_result"
    },
    {
     "data": {
      "image/png": "[encoded data removed]",
      "text/plain": [
       "<Figure size 432x288 with 1 Axes>"
      ]
     },
     "metadata": {
      "needs_background": "light"
     },
     "output_type": "display_data"
    }
   ],
   "source": [
    "plt.plot(x, train_loss)\n",
    "plt.title(\"Train Loss\")"
   ]
  },
  {
   "cell_type": "code",
   "execution_count": null,
   "metadata": {
    "colab": {
     "base_uri": "https://localhost:8080/"
    },
    "id": "OaYp7-SKooAA",
    "outputId": "6df8e886-c002-4524-db0b-e646418264bc"
   },
   "outputs": [
    {
     "name": "stdout",
     "output_type": "stream",
     "text": [
      "tensor([[35, 46, 39, 58,  1, 47, 57,  1, 58, 46, 43,  1, 51, 43, 39, 52, 47, 52,\n",
      "         45,  1, 53, 44,  1, 50, 47, 44, 43,  1, 58, 46, 43, 43,  1, 42, 39, 61,\n",
      "         12]], device='cuda:0')\n",
      "What is the meaning of life thee daw?\n",
      "\n",
      "RATCLIFF:\n",
      "Trodise, more are you arribes them.\n",
      "\n",
      "VOLUMNIA:\n",
      "A poor queen, and nursuing to way,\n",
      "And tongue Preter's his father's battle and leap\n",
      "On mury of ale the lass, that should not,\n",
      "Don divini. I not striught to me Part Con, I less;\n",
      "I have med not o' the safeter's profit\n",
      "Of boy: it well-guest the air must that I see\n",
      "To have tear while the lightful abon my lands.\n",
      "Down your pleast, return for us of a wolf,\n",
      "Then peoplexiness more than that I would this be and\n",
      "That, an our sworn disposed the king\n"
     ]
    }
   ],
   "source": [
    "#step 4500: train loss 1.4966, val loss 1.6931\n",
    "data = torch.tensor(encode(\"What is the meaning of life thee daw?\"), dtype=torch.long, device = device)\n",
    "data = data.reshape(1,37)\n",
    "print(data)\n",
    "print(decode(m.generate(idx = data, max_new_tokens=500)[0].tolist())) \n"
   ]
  },
  {
   "cell_type": "code",
   "execution_count": null,
   "metadata": {
    "colab": {
     "base_uri": "https://localhost:8080/"
    },
    "id": "84tt63b-pJNj",
    "outputId": "deb48a64-246e-4b88-ee22-45f7bb1cef9f"
   },
   "outputs": [
    {
     "name": "stdout",
     "output_type": "stream",
     "text": [
      "Mounted at /content/gdrive\n"
     ]
    }
   ],
   "source": [
    "from google.colab import drive\n",
    "drive.mount('/content/gdrive')\n"
   ]
  },
  {
   "cell_type": "code",
   "execution_count": null,
   "metadata": {
    "id": "ZgiqNUa5pZ95"
   },
   "outputs": [],
   "source": [
    "model_save_name = 'transformer_final.pt'\n",
    "path = f\"/content/gdrive/MyDrive/{model_save_name}\" "
   ]
  },
  {
   "cell_type": "code",
   "execution_count": null,
   "metadata": {
    "id": "m0BzFp6jzHBm"
   },
   "outputs": [],
   "source": [
    "torch.save(model.state_dict(), path)"
   ]
  },
  {
   "cell_type": "code",
   "execution_count": null,
   "metadata": {
    "id": "N-xQJq8yFhfP"
   },
   "outputs": [],
   "source": []
  }
 ],
 "metadata": {
  "accelerator": "GPU",
  "colab": {
   "provenance": []
  },
  "gpuClass": "standard",
  "kernelspec": {
   "display_name": "Python 3 (ipykernel)",
   "language": "python",
   "name": "python3"
  },
  "language_info": {
   "codemirror_mode": {
    "name": "ipython",
    "version": 3
   },
   "file_extension": ".py",
   "mimetype": "text/x-python",
   "name": "python",
   "nbconvert_exporter": "python",
   "pygments_lexer": "ipython3",
   "version": "3.10.7"
  }
 },
 "nbformat": 4,
 "nbformat_minor": 1
}
